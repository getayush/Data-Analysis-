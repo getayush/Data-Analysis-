{
 "cells": [
  {
   "cell_type": "code",
   "execution_count": 1,
   "id": "655043a3",
   "metadata": {},
   "outputs": [
    {
     "name": "stdout",
     "output_type": "stream",
     "text": [
      "Requirement already satisfied: mysql-connector-python in c:\\users\\asus\\anaconda3\\lib\\site-packages (8.3.0)\n",
      "Note: you may need to restart the kernel to use updated packages.\n"
     ]
    },
    {
     "name": "stderr",
     "output_type": "stream",
     "text": [
      "DEPRECATION: pyodbc 4.0.0-unsupported has a non-standard version number. pip 23.3 will enforce this behaviour change. A possible replacement is to upgrade to a newer version of pyodbc or contact the author to suggest that they release a version with a conforming version number. Discussion can be found at https://github.com/pypa/pip/issues/12063\n",
      "\n",
      "[notice] A new release of pip is available: 23.2.1 -> 24.0\n",
      "[notice] To update, run: python.exe -m pip install --upgrade pip\n"
     ]
    }
   ],
   "source": [
    "pip install mysql-connector-python"
   ]
  },
  {
   "cell_type": "code",
   "execution_count": 2,
   "id": "bff39253",
   "metadata": {},
   "outputs": [
    {
     "name": "stdout",
     "output_type": "stream",
     "text": [
      "Connected to MySQL database\n"
     ]
    }
   ],
   "source": [
    "import mysql.connector\n",
    "\n",
    "# Establishing a connection to the MySQL database\n",
    "conn = mysql.connector.connect(\n",
    "    host=\"127.0.0.1\",              # Host where your MySQL server is running\n",
    "    user=\"root\",          # Your MySQL username\n",
    "    password=\"root\",      # Your MySQL password\n",
    "    database=\"book\"       # Name of the MySQL database you want to connect to\n",
    ")\n",
    "\n",
    "# Checking if the connection was successful\n",
    "if conn.is_connected():\n",
    "    print(\"Connected to MySQL database\")"
   ]
  },
  {
   "cell_type": "code",
   "execution_count": 3,
   "id": "79de00e5",
   "metadata": {},
   "outputs": [
    {
     "name": "stdout",
     "output_type": "stream",
     "text": [
      "(1, 'sja')\n",
      "(2, 'Sarthak')\n",
      "(3, 'Hello')\n",
      "(220812, 'Lord Rama')\n"
     ]
    }
   ],
   "source": [
    "import mysql.connector\n",
    "\n",
    "# Establishing a connection to the MySQL database\n",
    "conn = mysql.connector.connect(\n",
    "    host=\"127.0.0.1\",              # Host where your MySQL server is running\n",
    "    user=\"root\",          # Your MySQL username\n",
    "    password=\"root\",      # Your MySQL password\n",
    "    database=\"book\"       # Name of the MySQL database you want to connect to\n",
    ")\n",
    "\n",
    "cursor=conn.cursor()\n",
    "query=\"select id, author from book;\"\n",
    "cursor.execute(query)\n",
    "\n",
    "r=cursor.fetchall()\n",
    "\n",
    "for x in r:\n",
    "    print(x)\n",
    "    \n",
    "cursor.close()\n",
    "conn.close()"
   ]
  },
  {
   "cell_type": "code",
   "execution_count": 8,
   "id": "330c4789",
   "metadata": {},
   "outputs": [
    {
     "data": {
      "text/plain": [
       "True"
      ]
     },
     "execution_count": 8,
     "metadata": {},
     "output_type": "execute_result"
    }
   ],
   "source": [
    "import mysql.connector\n",
    "\n",
    "conn = mysql.connector.connect(\n",
    "    host=\"127.0.0.1\",              \n",
    "    user=\"root\",          \n",
    "    password=\"root\",      \n",
    "    database=\"book\" )\n",
    "\n",
    "cursor=conn.cursor()\n",
    "query2=\"INSERT INTO book (id, author, name, price_string, price) VALUES (785, 'Lord Shiva', 'Greatest', 'Kedarnath', 'UK')\"\n",
    "cursor.execute(query2)\n",
    "\n",
    "conn.commit()\n",
    "cursor.close()"
   ]
  },
  {
   "cell_type": "code",
   "execution_count": 15,
   "id": "c9134d44",
   "metadata": {},
   "outputs": [
    {
     "name": "stdout",
     "output_type": "stream",
     "text": [
      "Connected to MySQL server\n",
      "Database 'Cambridge_Records' created successfully\n",
      "Database connection closed\n"
     ]
    }
   ],
   "source": [
    "import mysql.connector\n",
    "\n",
    "conn = mysql.connector.connect(\n",
    "    host=\"127.0.0.1\",              \n",
    "    user=\"root\",          \n",
    "    password=\"root\",      \n",
    "    database=\"book\" )\n",
    "\n",
    "cursor=conn.cursor()\n",
    "\n",
    "db_name = \"your_database_name\"\n",
    "create_db_query = f\"CREATE DATABASE {db_name}\"\n",
    "\n",
    "if conn.is_connected():\n",
    "    print(\"Connected to MySQL server\")\n",
    "\n",
    "    cursor = conn.cursor()\n",
    "\n",
    "    # SQL command to create a new database\n",
    "    db_name = \"Cambridge_Records\"\n",
    "    create_db_query = f\"CREATE DATABASE {db_name}\"\n",
    "\n",
    "    try:\n",
    "        # Execute the SQL command to create the database\n",
    "        cursor.execute(create_db_query)\n",
    "        print(f\"Database '{db_name}' created successfully\")\n",
    "    except mysql.connector.Error as err:\n",
    "        # Handle any errors that occur during database creation\n",
    "        print(f\"Error creating database: {err}\")\n",
    "    finally:\n",
    "        # Close the cursor and database connection\n",
    "        cursor.close()\n",
    "        conn.close()\n",
    "        print(\"Database connection closed\")\n",
    "else:\n",
    "    print(\"Failed to connect to MySQL server\")"
   ]
  },
  {
   "cell_type": "code",
   "execution_count": 21,
   "id": "7498bce4",
   "metadata": {},
   "outputs": [
    {
     "name": "stdout",
     "output_type": "stream",
     "text": [
      "Connected Mate!\n",
      "(220, 'DAPM', 'Computer Science', 2024, 'UK')\n",
      "(245, 'BADO', 'Business Analytics', 2025, 'USA')\n",
      "(398, 'DMST', 'Data Science', 2024, 'India')\n",
      "(489, 'Capstone', 'Advanced Computer Science', 2025, 'Australia')\n"
     ]
    }
   ],
   "source": [
    "import mysql.connector \n",
    "\n",
    "mydb=mysql.connector.connect(\n",
    "     host=\"127.0.0.1\",\n",
    "     user=\"root\",\n",
    "     password=\"root\",\n",
    "     database=\"Cambridge_Records\")\n",
    "\n",
    "if mydb.is_connected():\n",
    "    print(\"Connected Mate!\")\n",
    "    \n",
    "cursor=mydb.cursor()\n",
    "\n",
    "query=\"select *from students;\"\n",
    "cursor.execute(query)\n",
    "\n",
    "x=cursor.fetchall()\n",
    "\n",
    "for y in x:\n",
    "    print(y)\n",
    "\n",
    "cursor.close()\n",
    "mydb.close()"
   ]
  }
 ],
 "metadata": {
  "kernelspec": {
   "display_name": "Python 3 (ipykernel)",
   "language": "python",
   "name": "python3"
  },
  "language_info": {
   "codemirror_mode": {
    "name": "ipython",
    "version": 3
   },
   "file_extension": ".py",
   "mimetype": "text/x-python",
   "name": "python",
   "nbconvert_exporter": "python",
   "pygments_lexer": "ipython3",
   "version": "3.9.7"
  }
 },
 "nbformat": 4,
 "nbformat_minor": 5
}
