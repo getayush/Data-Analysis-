{
 "cells": [
  {
   "cell_type": "markdown",
   "id": "aabf7548",
   "metadata": {},
   "source": [
    "<span style=\"color:blue\">Array Creation</span>"
   ]
  },
  {
   "cell_type": "code",
   "execution_count": 1,
   "id": "8327f6cb",
   "metadata": {},
   "outputs": [
    {
     "data": {
      "text/plain": [
       "array([ 1,  5,  7,  9, 11])"
      ]
     },
     "execution_count": 1,
     "metadata": {},
     "output_type": "execute_result"
    }
   ],
   "source": [
    "import numpy as np\n",
    "y=np.array([1,5,7,9,11])\n",
    "y"
   ]
  },
  {
   "cell_type": "code",
   "execution_count": 2,
   "id": "fb53b6a7",
   "metadata": {},
   "outputs": [
    {
     "data": {
      "text/plain": [
       "array([[ 1,  2,  4,  8, 16],\n",
       "       [ 3,  5,  7,  9, 15]])"
      ]
     },
     "execution_count": 2,
     "metadata": {},
     "output_type": "execute_result"
    }
   ],
   "source": [
    "y=np.array([[1,2,4,8,16],\n",
    "            [3,5,7,9,15]])\n",
    "y"
   ]
  },
  {
   "cell_type": "code",
   "execution_count": 3,
   "id": "4b18b835",
   "metadata": {},
   "outputs": [
    {
     "name": "stdout",
     "output_type": "stream",
     "text": [
      "[[ 1  2  8  5]\n",
      " [ 2  5  9 13]\n",
      " [ 4  2  9  8]\n",
      " [ 6  2  3  5]]\n"
     ]
    }
   ],
   "source": [
    "x=np.array([ [1,2,8,5],\n",
    "             [2,5,9,13],\n",
    "             [4,2,9,8],\n",
    "             [6,2,3,5] ])\n",
    "print(x)"
   ]
  },
  {
   "cell_type": "code",
   "execution_count": 75,
   "id": "4569ee49",
   "metadata": {},
   "outputs": [
    {
     "name": "stderr",
     "output_type": "stream",
     "text": [
      "C:\\Users\\ASUS\\AppData\\Local\\Temp/ipykernel_31836/2119992822.py:1: VisibleDeprecationWarning: Creating an ndarray from ragged nested sequences (which is a list-or-tuple of lists-or-tuples-or ndarrays with different lengths or shapes) is deprecated. If you meant to do this, you must specify 'dtype=object' when creating the ndarray.\n",
      "  c=np.array([ [1,2,8,5],\n"
     ]
    },
    {
     "data": {
      "text/plain": [
       "array([list([1, 2, 8, 5]), list([2, 5, 9, 13, 17]),\n",
       "       list([4, 2, 9, 8, 19]), list([6, 2, 8, 3, 5])], dtype=object)"
      ]
     },
     "execution_count": 75,
     "metadata": {},
     "output_type": "execute_result"
    }
   ],
   "source": [
    "#When the size of the lists inside array is different then it is recommended you specify dtype=object\n",
    "c=np.array([ [1,2,8,5],\n",
    "             [2,5,9,13,17],\n",
    "             [4,2,9,8,19], \n",
    "             [6,2,8,3,5]])\n",
    "c"
   ]
  },
  {
   "cell_type": "code",
   "execution_count": 4,
   "id": "b2f1790a",
   "metadata": {},
   "outputs": [
    {
     "data": {
      "text/plain": [
       "array([list([1, 2, 8, 5]), list([2, 5, 9, 13, 17]),\n",
       "       list([4, 2, 9, 8, 19]), list([6, 2, 8, 3, 5])], dtype=object)"
      ]
     },
     "execution_count": 4,
     "metadata": {},
     "output_type": "execute_result"
    }
   ],
   "source": [
    "c=np.array([ [1,2,8,5],\n",
    "             [2,5,9,13,17],\n",
    "             [4,2,9,8,19], \n",
    "             [6,2,8,3,5]], dtype=object)\n",
    "c"
   ]
  },
  {
   "cell_type": "code",
   "execution_count": 77,
   "id": "7abe601f",
   "metadata": {},
   "outputs": [
    {
     "data": {
      "text/plain": [
       "(array([[0., 0., 0.],\n",
       "        [0., 0., 0.]]),\n",
       " array([[0., 0., 0., 0., 0., 0., 0.],\n",
       "        [0., 0., 0., 0., 0., 0., 0.],\n",
       "        [0., 0., 0., 0., 0., 0., 0.],\n",
       "        [0., 0., 0., 0., 0., 0., 0.],\n",
       "        [0., 0., 0., 0., 0., 0., 0.],\n",
       "        [0., 0., 0., 0., 0., 0., 0.],\n",
       "        [0., 0., 0., 0., 0., 0., 0.],\n",
       "        [0., 0., 0., 0., 0., 0., 0.],\n",
       "        [0., 0., 0., 0., 0., 0., 0.],\n",
       "        [0., 0., 0., 0., 0., 0., 0.],\n",
       "        [0., 0., 0., 0., 0., 0., 0.],\n",
       "        [0., 0., 0., 0., 0., 0., 0.],\n",
       "        [0., 0., 0., 0., 0., 0., 0.],\n",
       "        [0., 0., 0., 0., 0., 0., 0.],\n",
       "        [0., 0., 0., 0., 0., 0., 0.]]))"
      ]
     },
     "execution_count": 77,
     "metadata": {},
     "output_type": "execute_result"
    }
   ],
   "source": [
    "zeros=np.zeros((2,3))\n",
    "\n",
    "another_zeros=np.zeros((15,7))\n",
    "zeros, another_zeros"
   ]
  },
  {
   "cell_type": "code",
   "execution_count": 78,
   "id": "57bafdf7",
   "metadata": {},
   "outputs": [
    {
     "data": {
      "text/plain": [
       "(array([[1., 1., 1., 1., 1., 1., 1., 1.],\n",
       "        [1., 1., 1., 1., 1., 1., 1., 1.]]),\n",
       " array([[1., 1., 1., 1., 1., 1., 1., 1., 1., 1., 1., 1.],\n",
       "        [1., 1., 1., 1., 1., 1., 1., 1., 1., 1., 1., 1.],\n",
       "        [1., 1., 1., 1., 1., 1., 1., 1., 1., 1., 1., 1.],\n",
       "        [1., 1., 1., 1., 1., 1., 1., 1., 1., 1., 1., 1.],\n",
       "        [1., 1., 1., 1., 1., 1., 1., 1., 1., 1., 1., 1.]]))"
      ]
     },
     "execution_count": 78,
     "metadata": {},
     "output_type": "execute_result"
    }
   ],
   "source": [
    "ones=np.ones((2,8))\n",
    "another_ones=np.ones((5,12))\n",
    "ones, another_ones"
   ]
  },
  {
   "cell_type": "markdown",
   "id": "85b7d1bf",
   "metadata": {},
   "source": [
    "<span style=\"color:blue\">Array Generation Starts Below</span>"
   ]
  },
  {
   "cell_type": "code",
   "execution_count": 5,
   "id": "c673bb5a",
   "metadata": {},
   "outputs": [
    {
     "data": {
      "text/plain": [
       "array([ 15,  16,  17,  18,  19,  20,  21,  22,  23,  24,  25,  26,  27,\n",
       "        28,  29,  30,  31,  32,  33,  34,  35,  36,  37,  38,  39,  40,\n",
       "        41,  42,  43,  44,  45,  46,  47,  48,  49,  50,  51,  52,  53,\n",
       "        54,  55,  56,  57,  58,  59,  60,  61,  62,  63,  64,  65,  66,\n",
       "        67,  68,  69,  70,  71,  72,  73,  74,  75,  76,  77,  78,  79,\n",
       "        80,  81,  82,  83,  84,  85,  86,  87,  88,  89,  90,  91,  92,\n",
       "        93,  94,  95,  96,  97,  98,  99, 100, 101, 102, 103, 104, 105,\n",
       "       106, 107, 108, 109, 110, 111, 112, 113, 114, 115, 116, 117, 118,\n",
       "       119, 120, 121, 122, 123, 124, 125, 126, 127, 128, 129, 130, 131,\n",
       "       132, 133, 134, 135, 136, 137, 138, 139, 140, 141, 142, 143, 144,\n",
       "       145, 146, 147, 148, 149, 150, 151, 152, 153, 154, 155, 156, 157,\n",
       "       158, 159, 160, 161, 162, 163, 164, 165, 166, 167, 168, 169, 170,\n",
       "       171, 172, 173, 174, 175, 176, 177, 178, 179, 180, 181, 182, 183,\n",
       "       184, 185, 186, 187, 188, 189, 190, 191, 192, 193, 194, 195, 196,\n",
       "       197, 198, 199])"
      ]
     },
     "execution_count": 5,
     "metadata": {},
     "output_type": "execute_result"
    }
   ],
   "source": [
    "e=np.arange(15,200)\n",
    "e"
   ]
  },
  {
   "cell_type": "code",
   "execution_count": 15,
   "id": "e429330b",
   "metadata": {},
   "outputs": [
    {
     "data": {
      "text/plain": [
       "array([ -1,  -4,  -7, -10, -13, -16, -19, -22, -25, -28, -31, -34, -37,\n",
       "       -40, -43, -46, -49])"
      ]
     },
     "execution_count": 15,
     "metadata": {},
     "output_type": "execute_result"
    }
   ],
   "source": [
    "e=np.arange(-1,-50,-3)\n",
    "e"
   ]
  },
  {
   "cell_type": "code",
   "execution_count": 79,
   "id": "02b5a3b9",
   "metadata": {},
   "outputs": [
    {
     "data": {
      "text/plain": [
       "array([ 2.        ,  2.16326531,  2.32653061,  2.48979592,  2.65306122,\n",
       "        2.81632653,  2.97959184,  3.14285714,  3.30612245,  3.46938776,\n",
       "        3.63265306,  3.79591837,  3.95918367,  4.12244898,  4.28571429,\n",
       "        4.44897959,  4.6122449 ,  4.7755102 ,  4.93877551,  5.10204082,\n",
       "        5.26530612,  5.42857143,  5.59183673,  5.75510204,  5.91836735,\n",
       "        6.08163265,  6.24489796,  6.40816327,  6.57142857,  6.73469388,\n",
       "        6.89795918,  7.06122449,  7.2244898 ,  7.3877551 ,  7.55102041,\n",
       "        7.71428571,  7.87755102,  8.04081633,  8.20408163,  8.36734694,\n",
       "        8.53061224,  8.69387755,  8.85714286,  9.02040816,  9.18367347,\n",
       "        9.34693878,  9.51020408,  9.67346939,  9.83673469, 10.        ])"
      ]
     },
     "execution_count": 79,
     "metadata": {},
     "output_type": "execute_result"
    }
   ],
   "source": [
    "np.linspace(2,10,num=50)"
   ]
  },
  {
   "cell_type": "code",
   "execution_count": 83,
   "id": "dac77c42",
   "metadata": {},
   "outputs": [
    {
     "data": {
      "text/plain": [
       "array([  10.        ,   31.6227766 ,  100.        ,  316.22776602,\n",
       "       1000.        ])"
      ]
     },
     "execution_count": 83,
     "metadata": {},
     "output_type": "execute_result"
    }
   ],
   "source": [
    "np.logspace(1,3,num=5)"
   ]
  },
  {
   "cell_type": "markdown",
   "id": "5304652a",
   "metadata": {},
   "source": [
    "<span style=\"color:blue\">Array Reshaping Starts Below</span>"
   ]
  },
  {
   "cell_type": "code",
   "execution_count": 86,
   "id": "1f288b59",
   "metadata": {},
   "outputs": [
    {
     "data": {
      "text/plain": [
       "array([[ 1. ,  4.5,  8. , 11.5, 15. , 18.5, 22. ],\n",
       "       [25.5, 29. , 32.5, 36. , 39.5, 43. , 46.5]])"
      ]
     },
     "execution_count": 86,
     "metadata": {},
     "output_type": "execute_result"
    }
   ],
   "source": [
    "x=np.arange(1,50,3.5)\n",
    "x.shape=(2,7)\n",
    "x"
   ]
  },
  {
   "cell_type": "code",
   "execution_count": 94,
   "id": "b3d901a4",
   "metadata": {},
   "outputs": [
    {
     "name": "stdout",
     "output_type": "stream",
     "text": [
      "I am the original unchanged array [ 1.   4.5  8.  11.5 15.  18.5 22.  25.5 29.  32.5 36.  39.5 43.  46.5]\n",
      "I am the reshaped copy of original array \n",
      "[[ 1.   4.5  8.  11.5 15.  18.5 22. ]\n",
      " [25.5 29.  32.5 36.  39.5 43.  46.5]]\n"
     ]
    }
   ],
   "source": [
    "x=np.arange(1,50,3.5)\n",
    "y=x.reshape((2,7))\n",
    "print(f\"I am the original unchanged array {x}\") \n",
    "print(f\"I am the reshaped copy of original array \\n{y}\") "
   ]
  },
  {
   "cell_type": "code",
   "execution_count": 100,
   "id": "00ceea09",
   "metadata": {},
   "outputs": [
    {
     "name": "stdout",
     "output_type": "stream",
     "text": [
      "The original array is  [ 2  5  8 11 14 17 20 23 26 29]\n",
      "8\n",
      "The reshaped array is \n",
      " [[ 2  5  8 11 14]\n",
      " [17 20 23 26 29]]\n",
      "The second reshaped is \n",
      " [[ 2  5]\n",
      " [ 8 11]\n",
      " [14 17]\n",
      " [20 23]\n",
      " [26 29]]\n",
      "The last combination is \n",
      " [[ 2]\n",
      " [ 5]\n",
      " [ 8]\n",
      " [11]\n",
      " [14]\n",
      " [17]\n",
      " [20]\n",
      " [23]\n",
      " [26]\n",
      " [29]]\n"
     ]
    },
    {
     "ename": "ValueError",
     "evalue": "cannot reshape array of size 10 into shape (2,10)",
     "output_type": "error",
     "traceback": [
      "\u001b[1;31m---------------------------------------------------------------------------\u001b[0m",
      "\u001b[1;31mValueError\u001b[0m                                Traceback (most recent call last)",
      "\u001b[1;32m~\\AppData\\Local\\Temp/ipykernel_31836/2717133735.py\u001b[0m in \u001b[0;36m<module>\u001b[1;34m\u001b[0m\n\u001b[0;32m     13\u001b[0m \u001b[0mprint\u001b[0m\u001b[1;33m(\u001b[0m\u001b[1;34m\"The last combination is \\n\"\u001b[0m\u001b[1;33m,\u001b[0m \u001b[0mx\u001b[0m\u001b[1;33m)\u001b[0m\u001b[1;33m\u001b[0m\u001b[1;33m\u001b[0m\u001b[0m\n\u001b[0;32m     14\u001b[0m \u001b[1;33m\u001b[0m\u001b[0m\n\u001b[1;32m---> 15\u001b[1;33m \u001b[0mx\u001b[0m\u001b[1;33m=\u001b[0m\u001b[0mx\u001b[0m\u001b[1;33m.\u001b[0m\u001b[0mreshape\u001b[0m\u001b[1;33m(\u001b[0m\u001b[1;36m2\u001b[0m\u001b[1;33m,\u001b[0m\u001b[1;36m10\u001b[0m\u001b[1;33m)\u001b[0m\u001b[1;33m\u001b[0m\u001b[1;33m\u001b[0m\u001b[0m\n\u001b[0m\u001b[0;32m     16\u001b[0m \u001b[0mprint\u001b[0m\u001b[1;33m(\u001b[0m\u001b[1;34m\"The last combination is \\n\"\u001b[0m\u001b[1;33m,\u001b[0m \u001b[0mx\u001b[0m\u001b[1;33m)\u001b[0m\u001b[1;33m\u001b[0m\u001b[1;33m\u001b[0m\u001b[0m\n",
      "\u001b[1;31mValueError\u001b[0m: cannot reshape array of size 10 into shape (2,10)"
     ]
    }
   ],
   "source": [
    "import numpy as np\n",
    "x=np.arange(2,32,3) # This contains 10 elements namely [2,5,8...29]\n",
    "print(\"The original array is \",x)\n",
    "print(x[2])\n",
    "\n",
    "x=x.reshape(2,5) #(The product of 2 and 5 is 10 so it can be reshaped into 2 rows 5 columns)\n",
    "print(\"The reshaped array is \\n\",x)\n",
    "\n",
    "x=x.reshape(5,2)\n",
    "print(\"The second reshaped is \\n\", x)\n",
    "\n",
    "x=x.reshape(10,1)\n",
    "print(\"The last combination is \\n\", x)\n",
    "\n",
    "x=x.reshape(2,10)\n",
    "print(\"The last combination is \\n\", x)"
   ]
  },
  {
   "cell_type": "markdown",
   "id": "466e1367",
   "metadata": {},
   "source": [
    "<span style=\"color:blue\">Array Slicing Starts Below</span>"
   ]
  },
  {
   "cell_type": "code",
   "execution_count": 99,
   "id": "1c82ab3e",
   "metadata": {},
   "outputs": [
    {
     "name": "stdout",
     "output_type": "stream",
     "text": [
      "[ 0  1  2  3  4  5  6  7  8  9 10 11]\n",
      "[1 4 7]\n",
      "[ 3  5  7  9 11 13 15 17 19 21 23 25 27 29 31 33 35 37 39 41 43 45 47 49]\n",
      "[ 9 15 21 27]\n"
     ]
    }
   ],
   "source": [
    "x=np.arange(12)\n",
    "print(x)\n",
    "print(x[1:8:3])\n",
    "\n",
    "y=np.arange(3,50,2)\n",
    "print(y)\n",
    "print(y[3:15:3])"
   ]
  },
  {
   "cell_type": "markdown",
   "id": "f0d960ac",
   "metadata": {},
   "source": [
    "<span style=\"color:blue\">Array Indexing Starts Below</span>"
   ]
  },
  {
   "cell_type": "code",
   "execution_count": 117,
   "id": "ff1ea6c2",
   "metadata": {},
   "outputs": [
    {
     "name": "stdout",
     "output_type": "stream",
     "text": [
      "The original 2D array is \n",
      " [[1 2 3]\n",
      " [4 5 6]\n",
      " [7 8 9]]\n",
      "The slicing on 2D array is \n",
      " [[5 6]]\n"
     ]
    }
   ],
   "source": [
    "# 1. Multi-dimensional slicing\n",
    "arr = np.array([[1, 2, 3], \n",
    "                [4, 5, 6], \n",
    "                [7, 8, 9]])\n",
    "multi_dim_slice = arr[1:2, 1:]\n",
    "\n",
    "print(\"The original 2D array is \\n\", arr)\n",
    "print(\"The slicing on 2D array is \\n\", multi_dim_slice)"
   ]
  },
  {
   "cell_type": "code",
   "execution_count": 118,
   "id": "40bd7aac",
   "metadata": {},
   "outputs": [
    {
     "data": {
      "text/plain": [
       "array([2, 4, 6, 8])"
      ]
     },
     "execution_count": 118,
     "metadata": {},
     "output_type": "execute_result"
    }
   ],
   "source": [
    "# 2. Boolean indexing\n",
    "arr = np.array([[1, 2, 3], \n",
    "                [4, 5, 6], \n",
    "                [7, 8, 9]])\n",
    "bool_indexing = arr[arr % 2 == 0]\n",
    "\n",
    "bool_indexing"
   ]
  },
  {
   "cell_type": "code",
   "execution_count": 121,
   "id": "67fd572c",
   "metadata": {},
   "outputs": [
    {
     "data": {
      "text/plain": [
       "(array([8, 3, 4]), array([4, 9, 3]), array([7, 5]))"
      ]
     },
     "execution_count": 121,
     "metadata": {},
     "output_type": "execute_result"
    }
   ],
   "source": [
    "# 3. Fancy indexing\n",
    "arr = np.array([[1, 2, 3], \n",
    "                [4, 5, 6], \n",
    "                [7, 8, 9]])\n",
    "fancy_indexing = arr[[2, 0, 1], [1, 2, 0]]\n",
    "fancy_indx = arr[[1,2,0], [0,2,2]]\n",
    "fancy = arr[[2,1], [0,1]]\n",
    "\n",
    "fancy_indexing, fancy_indx, fancy"
   ]
  },
  {
   "cell_type": "code",
   "execution_count": 125,
   "id": "a16e61ce",
   "metadata": {},
   "outputs": [
    {
     "name": "stdout",
     "output_type": "stream",
     "text": [
      "1D integer array indexing is [20 40 50]\n",
      "The 2D integer array indexing is [ 5  6 13]\n",
      "The 3D integer array indexing is [29 23]\n"
     ]
    }
   ],
   "source": [
    "#Integer Array Indexing\n",
    "import numpy as np\n",
    "arr = np.array([10, 20, 30, 40, 50, 60])\n",
    "\n",
    "indices = np.array([1, 3, 4])\n",
    "result = arr[indices]\n",
    "print(\"1D integer array indexing is\", result)\n",
    "\n",
    "#Integer Array Indexing in 2D array\n",
    "arr_2d = np.array([[1, 5, 3], \n",
    "                   [4, 7, 6], \n",
    "                   [13, 12, 9]])\n",
    "\n",
    "row_indices = np.array([0, 1, 2])\n",
    "col_indices = np.array([1, 2, 0])\n",
    "\n",
    "result = arr_2d[row_indices, col_indices]\n",
    "print(f\"The 2D integer array indexing is\", result)\n",
    "\n",
    "#Integer Array Indexing in 3D array\n",
    "y=np.array([12,46,29,57,46,19,78,97,109,23,44,39])\n",
    "y.shape=(3,2,2)\n",
    "\n",
    "indices_dim0 = np.array([0, 2])\n",
    "indices_dim1 = np.array([1, 0])\n",
    "indices_dim2 = np.array([0, 1])\n",
    "\n",
    "result = y[indices_dim0, indices_dim1, indices_dim2]\n",
    "print(f\"The 3D integer array indexing is\", result)"
   ]
  },
  {
   "cell_type": "code",
   "execution_count": 139,
   "id": "c61284b0",
   "metadata": {},
   "outputs": [
    {
     "name": "stdout",
     "output_type": "stream",
     "text": [
      "The 2D array is \n",
      " [[ 0  1  2  3  4  5  6]\n",
      " [ 7  8  9 10 11 12 13]\n",
      " [14 15 16 17 18 19 20]\n",
      " [21 22 23 24 25 26 27]\n",
      " [28 29 30 31 32 33 34]]\n",
      "The condition is \n",
      " [[False False False False False False False]\n",
      " [False False False False False False False]\n",
      " [False False False False False False False]\n",
      " [ True  True  True  True  True  True  True]\n",
      " [ True  True  True  True  True  True  True]]\n",
      "Boolean Indexing #1 \n",
      " [[21 22 23 24 25 26 27]\n",
      " [28 29 30 31 32 33 34]]\n",
      "The 3D array is \n",
      " [[[ 12  46]\n",
      "  [ 29  57]]\n",
      "\n",
      " [[ 46  19]\n",
      "  [ 78  97]]\n",
      "\n",
      " [[109  23]\n",
      "  [ 44  39]]]\n",
      "The conditions \n",
      " [[[False  True]\n",
      "  [False  True]]\n",
      "\n",
      " [[ True False]\n",
      "  [ True  True]]\n",
      "\n",
      " [[ True False]\n",
      "  [ True  True]]]\n",
      "The final result \n",
      " [ 46  57  46  78  97 109  44  39]\n"
     ]
    }
   ],
   "source": [
    "#Boolean Array Indexing\n",
    "import numpy as np\n",
    "x = np.arange(35).reshape(5, 7)\n",
    "print(\"The 2D array is \\n\", x)\n",
    "b = x > 20\n",
    "print(\"The condition is \\n\", b)\n",
    "b[:, 5] #-> [ : Represents rows and 5 represents column, so you're selecting all rows from 6th column (0th index) ]\n",
    "print(\"Boolean Indexing #1 \\n\", x[b[:,5]])\n",
    "\n",
    "#12.1) For 3D array \n",
    "y = np.array([12, 46, 29, 57, 46, 19, 78, 97, 109, 23, 44, 39])\n",
    "y.shape = (3, 2, 2)\n",
    "print(\"The 3D array is \\n\", y)\n",
    "\t\n",
    "# Create a boolean array based on a condition\n",
    "condition = y > 30\n",
    "print(\"The conditions \\n\", condition)\n",
    "\t\n",
    "# Use boolean array indexing to select elements\n",
    "result = y[condition]\n",
    "print(\"The final result \\n\", result)"
   ]
  },
  {
   "cell_type": "markdown",
   "id": "db98b8d1",
   "metadata": {},
   "source": [
    "<span style=\"color:blue\">Random Function Starts Below</span>"
   ]
  },
  {
   "cell_type": "code",
   "execution_count": 218,
   "id": "d52c18f7",
   "metadata": {},
   "outputs": [
    {
     "name": "stdout",
     "output_type": "stream",
     "text": [
      "50\n",
      "-213\n"
     ]
    },
    {
     "data": {
      "text/plain": [
       "array([[ 4, 17, 69, 71, 71],\n",
       "       [99, 58, 94, 63, 37],\n",
       "       [58, 46, 85, 91, 69],\n",
       "       [70, 38, 17, 47, 74],\n",
       "       [66, 94, 18, 94,  9]])"
      ]
     },
     "execution_count": 218,
     "metadata": {},
     "output_type": "execute_result"
    }
   ],
   "source": [
    "x=np.random.randint(4,51)\n",
    "print(x)\n",
    "\n",
    "y=np.random.randint(-256, 256)\n",
    "print(y)\n",
    "\n",
    "F=np.random.randint(1,101, size=(5,5))\n",
    "F"
   ]
  },
  {
   "cell_type": "code",
   "execution_count": 150,
   "id": "bcd9d65d",
   "metadata": {},
   "outputs": [
    {
     "name": "stdout",
     "output_type": "stream",
     "text": [
      "[40 49 24 30  8  9]\n",
      "[ 165  144 -210  201 -191 -163 -111 -155   93 -248]\n"
     ]
    }
   ],
   "source": [
    "x=np.random.randint(4,51, size=6)\n",
    "print(x)\n",
    "\n",
    "y=np.random.randint(-256, 256, size=10)\n",
    "print(y)"
   ]
  },
  {
   "cell_type": "code",
   "execution_count": 155,
   "id": "a8a8a502",
   "metadata": {},
   "outputs": [
    {
     "name": "stdout",
     "output_type": "stream",
     "text": [
      "[10 31 11 41  5 16]\n",
      "[ 7  6  7 31 17 33 26 35 38 50]\n"
     ]
    }
   ],
   "source": [
    "import numpy as np\n",
    "F=np.random.seed(40)\n",
    "y=np.random.randint(4,51, size=6)\n",
    "print(y) #-> The output would always be [10 31 11 41  5 16] for this seed value of 40.\n",
    "\n",
    "Q=np.random.seed(82)\n",
    "z=np.random.randint(4,51,size=10) #-> The output would always be [ 7  6  7 31 17 33] for the seed value of 82.\n",
    "print(z)"
   ]
  },
  {
   "cell_type": "markdown",
   "id": "4a8cfcc5",
   "metadata": {},
   "source": [
    "<span style=\"color:blue\">Data Types in Numpy Starts Below</span>"
   ]
  },
  {
   "cell_type": "code",
   "execution_count": 162,
   "id": "4d6aab3e",
   "metadata": {},
   "outputs": [
    {
     "name": "stdout",
     "output_type": "stream",
     "text": [
      "[  19   12    1   11   27    1  125 -126]\n",
      "[    19     12      1     11     27      1   -131 -31536]\n",
      "[   19    12     1    11    27     1  -131 34000]\n"
     ]
    }
   ],
   "source": [
    "#Signed Integers\n",
    "import numpy as np\n",
    "data8=np.array([19,12,1,11,27,1,-131,130], dtype=np.int8)\n",
    "print(data8)\n",
    "\n",
    "data16=np.array([19,12,1,11,27,1,-131,34000], dtype=np.int16)\n",
    "print(data16)\n",
    "\n",
    "data32=np.array([19,12,1,11,27,1,-131,34000], dtype=np.int32)\n",
    "print(data32)"
   ]
  },
  {
   "cell_type": "code",
   "execution_count": 163,
   "id": "8d34aa09",
   "metadata": {},
   "outputs": [
    {
     "name": "stdout",
     "output_type": "stream",
     "text": [
      "[ 19  12   1  11 130   1 125 239]\n",
      "[65522 65507    19    12     1    11    27     1 65405 65519]\n"
     ]
    }
   ],
   "source": [
    "#Unsigned Integers\n",
    "udata8=np.array([19,12,1,11,130,1,-131,-17], dtype=np.uint8)\n",
    "print(udata8)\n",
    "\n",
    "udata16=np.array([-14,-29,19,12,1,11,27,1,-131,-17], dtype=np.uint16)\n",
    "print(udata16)"
   ]
  },
  {
   "cell_type": "code",
   "execution_count": 169,
   "id": "401ede98",
   "metadata": {},
   "outputs": [
    {
     "data": {
      "text/plain": [
       "(-299.2, -156.0234, 299.2345)"
      ]
     },
     "execution_count": 169,
     "metadata": {},
     "output_type": "execute_result"
    }
   ],
   "source": [
    "# NumPy floating points\n",
    "float16_num = np.float16(-299.234)\n",
    "float32_num = np.float32(-156.0234)\n",
    "float64_num = np.float64(299.2345)\n",
    "\n",
    "float16_num, float32_num, float64_num"
   ]
  },
  {
   "cell_type": "code",
   "execution_count": 165,
   "id": "7e836db3",
   "metadata": {},
   "outputs": [
    {
     "data": {
      "text/plain": [
       "((1+2j), (1+2j))"
      ]
     },
     "execution_count": 165,
     "metadata": {},
     "output_type": "execute_result"
    }
   ],
   "source": [
    "# NumPy complex numbers\n",
    "complex64_num = np.complex64(1+2j)\n",
    "complex128_num = np.complex128(1+2j)\n",
    "\n",
    "complex64_num, complex128_num"
   ]
  },
  {
   "cell_type": "code",
   "execution_count": 166,
   "id": "703cd524",
   "metadata": {},
   "outputs": [
    {
     "data": {
      "text/plain": [
       "True"
      ]
     },
     "execution_count": 166,
     "metadata": {},
     "output_type": "execute_result"
    }
   ],
   "source": [
    "# Boolean types\n",
    "bool_val = True  # Python's built-in bool type\n",
    "np_bool_val = np.bool_(True)  # NumPy's bool type\n",
    "\n",
    "np_bool_val"
   ]
  },
  {
   "cell_type": "markdown",
   "id": "84c7b337",
   "metadata": {},
   "source": [
    "<span style=\"color:blue\">String in Numpy Starts Below</span>"
   ]
  },
  {
   "cell_type": "code",
   "execution_count": 176,
   "id": "1de86c6a",
   "metadata": {},
   "outputs": [
    {
     "data": {
      "text/plain": [
       "(array(['AJ', 'JA'], dtype='<U2'),\n",
       " array(['Ayush', 'Akshay', 19, 28, 'WWE'], dtype=object))"
      ]
     },
     "execution_count": 176,
     "metadata": {},
     "output_type": "execute_result"
    }
   ],
   "source": [
    "String=np.array([\"AJ\", \"JA\"])\n",
    "string = np.array([\"Ayush\", \"Akshay\", 19, 28, \"WWE\"], dtype=\"object\")\n",
    "String, string"
   ]
  },
  {
   "cell_type": "code",
   "execution_count": 174,
   "id": "210849e7",
   "metadata": {},
   "outputs": [
    {
     "data": {
      "text/plain": [
       "array(['Ayush', 'Ayush', 'Ayush', 'Ayush', 'Ayush'], dtype=object)"
      ]
     },
     "execution_count": 174,
     "metadata": {},
     "output_type": "execute_result"
    }
   ],
   "source": [
    "import numpy as np\n",
    "s = 'Ayush'\n",
    "n = 5\n",
    "arr = np.array([s for _ in range(n)], dtype='object')\n",
    "arr"
   ]
  },
  {
   "cell_type": "markdown",
   "id": "efc41fac",
   "metadata": {},
   "source": [
    "<span style=\"color:blue\">String Operations Numpy Starts Below</span>"
   ]
  },
  {
   "cell_type": "code",
   "execution_count": 193,
   "id": "343fea49",
   "metadata": {},
   "outputs": [
    {
     "name": "stdout",
     "output_type": "stream",
     "text": [
      "Upper Case: ['ISRAEL' 'MOSSAD' 'TEL AVIV']\n",
      "Lower Case: ['ayush' 'aditya' 'akshay']\n",
      "Lengths: [6 6 8]\n",
      "Replaced: ['Isr@el' 'Moss@d' 'Tel Aviv']\n",
      "Split: [list(['Israel']) list(['Mossad']) list(['Tel', 'Aviv'])]\n",
      "Joined: ['I-s-r-a-e-l' 'M-o-s-s-a-d' 'T-e-l- -A-v-i-v']\n",
      "Stripped: ['Israel' 'Mossad']\n",
      "Concatenated: ['AYUSHIsrael' 'ADITYAMossad' 'AKSHAYTel Aviv']\n",
      "Contains 'a': [ True  True False]\n"
     ]
    }
   ],
   "source": [
    "String = np.array([\"AYUSH\", \"ADITYA\", \"AKSHAY\"])\n",
    "strategic = np.array([\"Israel\", \"Mossad\", \"Tel Aviv\"])\n",
    "lower = np.char.lower(String)\n",
    "upper = np.char.upper(strategic)\n",
    "length = np.char.str_len(strategic)\n",
    "replace = np.char.replace(strategic, 'a', '@')\n",
    "split = np.char.split(strategic)\n",
    "join = np.char.join(['-'], strategic)\n",
    "strip = np.char.strip(['Israel', \"Mossad\"], ' ')\n",
    "concatenation = np.char.add(String, strategic)\n",
    "contains = np.char.find(strategic, 'a') != -1\n",
    "\n",
    "print(\"Upper Case:\", upper)\n",
    "print(\"Lower Case:\", lower)\n",
    "print(\"Lengths:\", length)\n",
    "print(\"Replaced:\", replace)\n",
    "print(\"Split:\", split)\n",
    "print(\"Joined:\", join)\n",
    "print(\"Stripped:\", strip)\n",
    "print(\"Concatenated:\", concatenation)\n",
    "print(\"Contains 'a':\", contains)"
   ]
  },
  {
   "cell_type": "code",
   "execution_count": 191,
   "id": "c5ef7ee5",
   "metadata": {},
   "outputs": [
    {
     "data": {
      "text/plain": [
       "(array([list(['Israel']), list(['Mossad']), list(['Tel-Aviv'])],\n",
       "       dtype=object),\n",
       " array(list(['Tel-Aviv']), dtype=object))"
      ]
     },
     "execution_count": 191,
     "metadata": {},
     "output_type": "execute_result"
    }
   ],
   "source": [
    "strategic = np.array([\"Israel\", \"Mossad\", \"Tel-Aviv\"])\n",
    "split = np.char.split(strategic, sep=\" \")\n",
    "split_second = np.char.split(strategic[2], sep=\"/\")\n",
    "split, split_second"
   ]
  },
  {
   "cell_type": "code",
   "execution_count": 192,
   "id": "fc641dc3",
   "metadata": {},
   "outputs": [
    {
     "name": "stdout",
     "output_type": "stream",
     "text": [
      "Replaced: ['Isr@el' 'Moss@d' 'Tel Aviv']\n"
     ]
    }
   ],
   "source": [
    "strategic = np.array([\"Israel\", \"Mossad\", \"Tel Aviv\"])\n",
    "replace = np.char.replace(strategic, 'a', '@')\n",
    "print(\"Replaced:\", replace)"
   ]
  },
  {
   "cell_type": "code",
   "execution_count": 194,
   "id": "0dca0f9d",
   "metadata": {},
   "outputs": [
    {
     "name": "stdout",
     "output_type": "stream",
     "text": [
      "Contains 'a': [ True  True False]\n"
     ]
    }
   ],
   "source": [
    "strategic = np.array([\"Israel\", \"Mossad\", \"Tel Aviv\"])\n",
    "contains = np.char.find(strategic, 'a') != -1\n",
    "print(\"Contains 'a':\", contains)"
   ]
  },
  {
   "cell_type": "markdown",
   "id": "f0626083",
   "metadata": {},
   "source": [
    "<span style=\"color:blue\">Date and Time in Numpy Starts Below</span>"
   ]
  },
  {
   "cell_type": "code",
   "execution_count": 219,
   "id": "a2dd0320",
   "metadata": {},
   "outputs": [
    {
     "name": "stdout",
     "output_type": "stream",
     "text": [
      "1972-05-25T00\n",
      "1972-05-25T00\n",
      "1972-05-25T00\n"
     ]
    },
    {
     "data": {
      "text/plain": [
       "(array('2024-04-08', dtype='datetime64[D]'),\n",
       " numpy.datetime64('2022-05-01'),\n",
       " numpy.datetime64('2024-04-08'),\n",
       " numpy.datetime64('1972-05-25T00','h'),\n",
       " array(['2024-04-08', '2024-04-09', '2024-04-10'], dtype='datetime64[D]'))"
      ]
     },
     "execution_count": 219,
     "metadata": {},
     "output_type": "execute_result"
    }
   ],
   "source": [
    "# Create an array with a single date\n",
    "date_array = np.array('2024-04-08', dtype='datetime64')\n",
    "\n",
    "# Create a datetime64 object from a string\n",
    "dt_64 = np.datetime64('2022-05-01')\n",
    "print(dt64)  # Output: numpy.datetime64('2022-05-01')\n",
    "\n",
    "# Create a datetime64 object from an integer (19821 days since 1970-01-01)\n",
    "daty = np.datetime64(19821, 'D') #You can pass any number of days (20000, 'D') it will calculate from 1970-01-01\n",
    "print(dt64)  # Output: numpy.datetime64('2024-04-08')\n",
    "\n",
    "# Create a datetime64 object from an integer (21000 hours since 1970-01-01)\n",
    "dati = np.datetime64(21000, 'h')\n",
    "print(dt64)  # Output: numpy.datetime64('1972-05-25T00')\n",
    "\n",
    "# Create an array of dates\n",
    "dates = np.array(['2024-04-08', '2024-04-09', '2024-04-10'], dtype='datetime64')\n",
    "\n",
    "date_array, dt_64, daty, dati, dates"
   ]
  },
  {
   "cell_type": "code",
   "execution_count": 220,
   "id": "c5b0ea8c",
   "metadata": {},
   "outputs": [
    {
     "data": {
      "text/plain": [
       "(numpy.datetime64('2024-04-09T07:11:23'), numpy.datetime64('2024-04-09'))"
      ]
     },
     "execution_count": 220,
     "metadata": {},
     "output_type": "execute_result"
    }
   ],
   "source": [
    "current_datetime = np.datetime64('now')\n",
    "current_date = np.datetime64('today', 'D')\n",
    "current_datetime, current_date"
   ]
  },
  {
   "cell_type": "code",
   "execution_count": 196,
   "id": "9f783ea1",
   "metadata": {},
   "outputs": [
    {
     "data": {
      "text/plain": [
       "(numpy.timedelta64(2,'D'),\n",
       " numpy.datetime64('2024-04-18'),\n",
       " array(['2024-04-08', '2024-04-09', '2024-04-10', '2024-04-11',\n",
       "        '2024-04-12', '2024-04-13', '2024-04-14'], dtype='datetime64[D]'))"
      ]
     },
     "execution_count": 196,
     "metadata": {},
     "output_type": "execute_result"
    }
   ],
   "source": [
    "# Subtracting dates to get the number of days between them\n",
    "diff = np.array('2024-04-10', dtype='datetime64') - np.array('2024-04-08', dtype='datetime64')\n",
    "\n",
    "# Adding days to a date\n",
    "new_date = np.array('2024-04-08', dtype='datetime64') + np.array(10, dtype='timedelta64[D]')\n",
    "\n",
    "# Creating a range of dates\n",
    "date_range = np.arange('2024-04-08', '2024-04-15', dtype='datetime64[D]')\n",
    "\n",
    "diff, new_date, date_range"
   ]
  },
  {
   "cell_type": "code",
   "execution_count": 216,
   "id": "690fb990",
   "metadata": {},
   "outputs": [
    {
     "name": "stdout",
     "output_type": "stream",
     "text": [
      "120 days\n",
      "2022-05-11\n",
      "2024-04-12T04\n"
     ]
    }
   ],
   "source": [
    "# Subtract two datetime64 objects to get a timedelta64\n",
    "dt1 = np.datetime64('2022-05-01')\n",
    "dt2 = np.datetime64('2022-01-01')\n",
    "delta = dt1 - dt2\n",
    "print(delta)  # Output: numpy.timedelta64(121,'D')\n",
    "\n",
    "# Add a timedelta64 to a datetime64\n",
    "new_dt = dt1 + np.timedelta64(10, 'D')\n",
    "print(new_dt)  # Output: numpy.datetime64('2022-05-11')\n",
    "\n",
    "new_date = np.array('2024-04-08', dtype='datetime64') + np.array(100, dtype='timedelta64[h]')\n",
    "print(new_date)"
   ]
  },
  {
   "cell_type": "code",
   "execution_count": null,
   "id": "37790987",
   "metadata": {},
   "outputs": [],
   "source": [
    "import numpy as np\n",
    "s = ''\n",
    "n = 5\n",
    "arr = np.array([s for _ in range(n)], dtype='object')"
   ]
  },
  {
   "cell_type": "markdown",
   "id": "f86ec41c",
   "metadata": {},
   "source": [
    "<span style=\"color:blue\">Array Manipulation : Flattening Array Starts Below</span>"
   ]
  },
  {
   "cell_type": "code",
   "execution_count": 221,
   "id": "3c012bd3",
   "metadata": {},
   "outputs": [
    {
     "name": "stdout",
     "output_type": "stream",
     "text": [
      "The flattened 1D array is\n",
      " [ 0  1  2  3  4  5  6  7  8  9 10 11 12 13 14 15 16 17 18 19]\n",
      "The final 1D array after flatten() is\n",
      " [[ 0  1  2  3]\n",
      " [ 4  5  6  7]\n",
      " [ 8  9 10 11]\n",
      " [12 13 14 15]\n",
      " [16 17 18 19]]\n",
      "The 1D array is\n",
      " [ 0  1  2  3  4  5  6  7  8  9 10 11 12 13 14 15 16 17 18 19]\n",
      "The final 1D array after ravel() is\n",
      " [[   0    1    2 8576]\n",
      " [   4    5    6    7]\n",
      " [   8    9   10   11]\n",
      " [  12   13   14   15]\n",
      " [  16   17   18   19]]\n"
     ]
    }
   ],
   "source": [
    "import numpy as np\n",
    "A=np.arange(20).reshape(5,4)\n",
    "B=A.flatten()\n",
    "print(\"The flattened 1D array is\\n\", B)\n",
    "B[3]=8576 #Changes doesn't affect original array\n",
    "print(\"The final 1D array after flatten() is\\n\", A)\n",
    "\n",
    "D=np.arange(20).reshape(5,4)\n",
    "E=D.ravel()\n",
    "print(\"The 1D array is\\n\", E)\n",
    "E[3]=8576 #Changes affect original array\n",
    "print(\"The final 1D array after ravel() is\\n\", D)"
   ]
  },
  {
   "cell_type": "markdown",
   "id": "fd2583f2",
   "metadata": {},
   "source": [
    "<span style=\"color:blue\">Broadcasting Starts Below</span>"
   ]
  },
  {
   "cell_type": "code",
   "execution_count": 244,
   "id": "b7063174",
   "metadata": {},
   "outputs": [
    {
     "name": "stdout",
     "output_type": "stream",
     "text": [
      "[[ 1  5  9 13 17]\n",
      " [21 25 29 33 37]\n",
      " [41 45 49 53 57]]\n",
      "The scalar valued added \n",
      " [[11 15 19 23 27]\n",
      " [31 35 39 43 47]\n",
      " [51 55 59 63 67]]\n",
      "The broadcasting \n",
      " [[1], [2], [3], [4], [1, 2, 3]]\n"
     ]
    }
   ],
   "source": [
    "A=np.arange(1,60,4).reshape(3,5)\n",
    "print(A)\n",
    "\n",
    "value=10\n",
    "print(\"The scalar valued added \\n\",A+value)\n",
    "\n",
    "C = [[1],\n",
    "     [2],\n",
    "     [3],\n",
    "     [4]]\n",
    "\n",
    "D = [[1, 2, 3]]\n",
    "print(\"The broadcasting \\n\", C+D)"
   ]
  },
  {
   "cell_type": "code",
   "execution_count": 286,
   "id": "9dcf2f45",
   "metadata": {},
   "outputs": [
    {
     "name": "stdout",
     "output_type": "stream",
     "text": [
      "[[ 1  2  3  4  5  6  7  8]\n",
      " [ 9 10 11 12 13 14 15 16]\n",
      " [17 18 19 20 21 22 23 24]]\n",
      "[[100 101 102 103 104 105 106 107]\n",
      " [108 109 110 111 112 113 114 115]\n",
      " [116 117 118 119 120 121 122 123]]\n",
      "Addition:\n",
      " [[101 103 105 107 109 111 113 115]\n",
      " [117 119 121 123 125 127 129 131]\n",
      " [133 135 137 139 141 143 145 147]]\n",
      "Subtraction:\n",
      " [[-99 -99 -99 -99 -99 -99 -99 -99]\n",
      " [-99 -99 -99 -99 -99 -99 -99 -99]\n",
      " [-99 -99 -99 -99 -99 -99 -99 -99]]\n",
      "Multiplication:\n",
      " [[ 100  202  306  412  520  630  742  856]\n",
      " [ 972 1090 1210 1332 1456 1582 1710 1840]\n",
      " [1972 2106 2242 2380 2520 2662 2806 2952]]\n",
      "Division:\n",
      " [[0.01       0.01980198 0.02941176 0.03883495 0.04807692 0.05714286\n",
      "  0.06603774 0.07476636]\n",
      " [0.08333333 0.09174312 0.1        0.10810811 0.11607143 0.12389381\n",
      "  0.13157895 0.13913043]\n",
      " [0.14655172 0.15384615 0.16101695 0.16806723 0.175      0.18181818\n",
      "  0.18852459 0.19512195]]\n",
      "Standard Deviation 13.844373104863458\n",
      "Mean 124.0\n",
      "Variance 191.66666666666666\n"
     ]
    }
   ],
   "source": [
    "A=np.arange(1,25).reshape(3,8)\n",
    "B=np.arange(100,124).reshape(3,8)\n",
    "print(A)\n",
    "print(B)\n",
    "print(\"Addition:\\n\",A+B)\n",
    "print(\"Subtraction:\\n\",A-B)\n",
    "print(\"Multiplication:\\n\",A*B)\n",
    "print(\"Division:\\n\",A/B)\n",
    "print(\"Standard Deviation\", np.std(A+B))\n",
    "print(\"Mean\", np.mean(A+B))\n",
    "print(\"Variance\", np.var(A+B))"
   ]
  },
  {
   "cell_type": "code",
   "execution_count": 276,
   "id": "5b5cdacb",
   "metadata": {},
   "outputs": [
    {
     "name": "stdout",
     "output_type": "stream",
     "text": [
      "[[ 1  2  3  4  5  6  7  8]\n",
      " [ 9 10 11 12 13 14 15 16]\n",
      " [17 18 19 20 21 22 23 24]]\n",
      "[[1]\n",
      " [2]\n",
      " [3]]\n",
      "[[ 2  3  4  5  6  7  8  9]\n",
      " [11 12 13 14 15 16 17 18]\n",
      " [20 21 22 23 24 25 26 27]]\n"
     ]
    }
   ],
   "source": [
    "A=np.arange(1,25).reshape(3,8)\n",
    "B=np.arange(1,4).reshape(3,1)\n",
    "print(A)\n",
    "print(B)\n",
    "print(A+B)"
   ]
  },
  {
   "cell_type": "code",
   "execution_count": 271,
   "id": "78be7068",
   "metadata": {},
   "outputs": [
    {
     "name": "stdout",
     "output_type": "stream",
     "text": [
      "The size of A: 24\n",
      "The size of B: 8\n",
      "\t\n",
      "The array A is\n",
      " [[ 1  2  3  4  5  6  7  8]\n",
      " [ 9 10 11 12 13 14 15 16]\n",
      " [17 18 19 20 21 22 23 24]]\n",
      "\t\n",
      "The array B is\n",
      " [2 3 4 5 6 7 8 9]\n",
      "\t\n",
      "The broadcasting is\n",
      " [[ 3  5  7  9 11 13 15 17]\n",
      " [11 13 15 17 19 21 23 25]\n",
      " [19 21 23 25 27 29 31 33]]\n"
     ]
    }
   ],
   "source": [
    "A=np.arange(1,25).reshape(3,8)\n",
    "\n",
    "B=np.arange(2,10)\n",
    "\n",
    "print(\"The size of A:\",A.size)\n",
    "print(\"The size of B:\",B.size)\n",
    "print(\"\\t\")\n",
    "print(\"The array A is\\n\", A)\n",
    "print(\"\\t\")\n",
    "print(\"The array B is\\n\", B)\n",
    "print(\"\\t\")\n",
    "print(\"The broadcasting is\\n\",A+B)"
   ]
  },
  {
   "cell_type": "code",
   "execution_count": 280,
   "id": "0a9c922d",
   "metadata": {},
   "outputs": [
    {
     "name": "stdout",
     "output_type": "stream",
     "text": [
      "[[ 1  2  3  4  5  6  7  8]\n",
      " [ 9 10 11 12 13 14 15 16]\n",
      " [17 18 19 20 21 22 23 24]]\n",
      "[[1]\n",
      " [2]\n",
      " [3]]\n",
      "[[ 1  2  3  4  5  6  7  8]\n",
      " [18 20 22 24 26 28 30 32]\n",
      " [51 54 57 60 63 66 69 72]]\n",
      "30.333333333333332\n",
      "[ 36 200 492]\n"
     ]
    }
   ],
   "source": [
    "#Aggregation along an axis in broadcasting\n",
    "A=np.arange(1,25).reshape(3,8)\n",
    "B=np.arange(1,4).reshape(3,1)\n",
    "print(A)\n",
    "print(B)\n",
    "print(A*B)\n",
    "print(np.mean(A*B))\n",
    "print(np.sum(A*B, axis=1)) #Sum along rows of A*B 1+2+3+4+5+6+7+8 = 36"
   ]
  },
  {
   "cell_type": "code",
   "execution_count": 279,
   "id": "25cb350d",
   "metadata": {},
   "outputs": [
    {
     "name": "stdout",
     "output_type": "stream",
     "text": [
      "[[ 1  2  3  4  5  6  7  8]\n",
      " [ 9 10 11 12 13 14 15 16]\n",
      " [17 18 19 20 21 22 23 24]]\n",
      "[[1]\n",
      " [2]\n",
      " [3]]\n",
      "[[False False False False False  True  True  True]\n",
      " [ True  True  True  True  True  True  True  True]\n",
      " [ True  True  True  True  True  True  True  True]]\n"
     ]
    }
   ],
   "source": [
    "#Logical Operation in Broadcasting\n",
    "A=np.arange(1,25).reshape(3,8)\n",
    "B=np.arange(1,4).reshape(3,1)\n",
    "print(A)\n",
    "print(B)\n",
    "print(np.logical_and(A > 5, B < 100))"
   ]
  },
  {
   "cell_type": "code",
   "execution_count": 289,
   "id": "baa46b5e",
   "metadata": {},
   "outputs": [
    {
     "name": "stdout",
     "output_type": "stream",
     "text": [
      "[[1]\n",
      " [2]\n",
      " [3]]\n",
      "[[1 2 3]]\n"
     ]
    }
   ],
   "source": [
    "#1D array conversion to column and row vectors\n",
    "B=np.array([1, 2, 3])  #Shape is (3,)\n",
    "column_vector = B[:, np.newaxis] \n",
    "print(column_vector) #Shape is now(3,1)\n",
    "\n",
    "array_1d = np.array([1, 2, 3])  # shape is (3,)\n",
    "row_vector  = array_1d[np.newaxis, :]  # shape is now (1, 3)\n",
    "print(row_vector)"
   ]
  },
  {
   "cell_type": "code",
   "execution_count": 284,
   "id": "81e51890",
   "metadata": {},
   "outputs": [],
   "source": [
    "new_array = array_1d[:, None]  # Equivalent to array_1d[:, np.newaxis]"
   ]
  },
  {
   "cell_type": "markdown",
   "id": "74f140b7",
   "metadata": {},
   "source": [
    "<span style=\"color:blue\">Stacking Starts Below</span>"
   ]
  },
  {
   "cell_type": "code",
   "execution_count": 290,
   "id": "e1016b65",
   "metadata": {},
   "outputs": [
    {
     "name": "stdout",
     "output_type": "stream",
     "text": [
      "Joins the arrays on row \n",
      " [[1 2 3]\n",
      " [4 5 6]]\n",
      "Joins the arrays based on columns \n",
      "  [[1 4]\n",
      " [2 5]\n",
      " [3 6]]\n"
     ]
    }
   ],
   "source": [
    "a=np.array([1,2,3])\n",
    "b=np.array([4,5,6])\n",
    "\n",
    "c=np.stack([a,b])\n",
    "print(\"Joins the arrays on row \\n\", c)\n",
    "\n",
    "d=np.stack([a,b], axis=1)\n",
    "print(\"Joins the arrays based on columns \\n \", d)"
   ]
  },
  {
   "cell_type": "code",
   "execution_count": 296,
   "id": "bcee3809",
   "metadata": {},
   "outputs": [
    {
     "name": "stdout",
     "output_type": "stream",
     "text": [
      "Row wise stack\n",
      " [[[ 1  2  3]\n",
      "  [ 4  5  6]]\n",
      "\n",
      " [[ 7  8  9]\n",
      "  [10 11 12]]]\n",
      "\t\n",
      "Column wise stack\n",
      " [[[ 1  2  3]\n",
      "  [ 7  8  9]]\n",
      "\n",
      " [[ 4  5  6]\n",
      "  [10 11 12]]]\n"
     ]
    }
   ],
   "source": [
    "a = np.array([[1,2,3], \n",
    "              [4,5,6]])\n",
    "\n",
    "b = np.array([[7, 8, 9],\n",
    "              [10,11,12]])\n",
    "\n",
    "c=np.stack([a,b])\n",
    "print(\"Row wise stack\\n\", c)\n",
    "print(\"\\t\")\n",
    "d=np.stack([a,b], axis=1)\n",
    "print(\"Column wise stack\\n\", d)"
   ]
  },
  {
   "cell_type": "code",
   "execution_count": 299,
   "id": "e9949d72",
   "metadata": {},
   "outputs": [
    {
     "ename": "ValueError",
     "evalue": "all input arrays must have the same shape",
     "output_type": "error",
     "traceback": [
      "\u001b[1;31m---------------------------------------------------------------------------\u001b[0m",
      "\u001b[1;31mValueError\u001b[0m                                Traceback (most recent call last)",
      "\u001b[1;32m~\\AppData\\Local\\Temp/ipykernel_31836/507530154.py\u001b[0m in \u001b[0;36m<module>\u001b[1;34m\u001b[0m\n\u001b[0;32m      2\u001b[0m \u001b[0mb\u001b[0m\u001b[1;33m=\u001b[0m\u001b[0mnp\u001b[0m\u001b[1;33m.\u001b[0m\u001b[0marray\u001b[0m\u001b[1;33m(\u001b[0m\u001b[1;33m[\u001b[0m\u001b[1;36m4\u001b[0m\u001b[1;33m,\u001b[0m\u001b[1;36m5\u001b[0m\u001b[1;33m,\u001b[0m\u001b[1;36m6\u001b[0m\u001b[1;33m]\u001b[0m\u001b[1;33m)\u001b[0m\u001b[1;33m\u001b[0m\u001b[1;33m\u001b[0m\u001b[0m\n\u001b[0;32m      3\u001b[0m \u001b[1;33m\u001b[0m\u001b[0m\n\u001b[1;32m----> 4\u001b[1;33m \u001b[0mc\u001b[0m\u001b[1;33m=\u001b[0m\u001b[0mnp\u001b[0m\u001b[1;33m.\u001b[0m\u001b[0mstack\u001b[0m\u001b[1;33m(\u001b[0m\u001b[1;33m[\u001b[0m\u001b[0ma\u001b[0m\u001b[1;33m,\u001b[0m\u001b[0mb\u001b[0m\u001b[1;33m]\u001b[0m\u001b[1;33m)\u001b[0m\u001b[1;33m\u001b[0m\u001b[1;33m\u001b[0m\u001b[0m\n\u001b[0m\u001b[0;32m      5\u001b[0m \u001b[0mprint\u001b[0m\u001b[1;33m(\u001b[0m\u001b[1;34m\"Joins the arrays on row \\n\"\u001b[0m\u001b[1;33m,\u001b[0m \u001b[0mc\u001b[0m\u001b[1;33m)\u001b[0m\u001b[1;33m\u001b[0m\u001b[1;33m\u001b[0m\u001b[0m\n",
      "\u001b[1;32m<__array_function__ internals>\u001b[0m in \u001b[0;36mstack\u001b[1;34m(*args, **kwargs)\u001b[0m\n",
      "\u001b[1;32m~\\anaconda3\\lib\\site-packages\\numpy\\core\\shape_base.py\u001b[0m in \u001b[0;36mstack\u001b[1;34m(arrays, axis, out)\u001b[0m\n\u001b[0;32m    425\u001b[0m     \u001b[0mshapes\u001b[0m \u001b[1;33m=\u001b[0m \u001b[1;33m{\u001b[0m\u001b[0marr\u001b[0m\u001b[1;33m.\u001b[0m\u001b[0mshape\u001b[0m \u001b[1;32mfor\u001b[0m \u001b[0marr\u001b[0m \u001b[1;32min\u001b[0m \u001b[0marrays\u001b[0m\u001b[1;33m}\u001b[0m\u001b[1;33m\u001b[0m\u001b[1;33m\u001b[0m\u001b[0m\n\u001b[0;32m    426\u001b[0m     \u001b[1;32mif\u001b[0m \u001b[0mlen\u001b[0m\u001b[1;33m(\u001b[0m\u001b[0mshapes\u001b[0m\u001b[1;33m)\u001b[0m \u001b[1;33m!=\u001b[0m \u001b[1;36m1\u001b[0m\u001b[1;33m:\u001b[0m\u001b[1;33m\u001b[0m\u001b[1;33m\u001b[0m\u001b[0m\n\u001b[1;32m--> 427\u001b[1;33m         \u001b[1;32mraise\u001b[0m \u001b[0mValueError\u001b[0m\u001b[1;33m(\u001b[0m\u001b[1;34m'all input arrays must have the same shape'\u001b[0m\u001b[1;33m)\u001b[0m\u001b[1;33m\u001b[0m\u001b[1;33m\u001b[0m\u001b[0m\n\u001b[0m\u001b[0;32m    428\u001b[0m \u001b[1;33m\u001b[0m\u001b[0m\n\u001b[0;32m    429\u001b[0m     \u001b[0mresult_ndim\u001b[0m \u001b[1;33m=\u001b[0m \u001b[0marrays\u001b[0m\u001b[1;33m[\u001b[0m\u001b[1;36m0\u001b[0m\u001b[1;33m]\u001b[0m\u001b[1;33m.\u001b[0m\u001b[0mndim\u001b[0m \u001b[1;33m+\u001b[0m \u001b[1;36m1\u001b[0m\u001b[1;33m\u001b[0m\u001b[1;33m\u001b[0m\u001b[0m\n",
      "\u001b[1;31mValueError\u001b[0m: all input arrays must have the same shape"
     ]
    }
   ],
   "source": [
    "a=np.array([1,2,3,10])\n",
    "b=np.array([4,5,6])\n",
    "\n",
    "c=np.stack([a,b])\n",
    "print(\"Joins the arrays on row \\n\", c) #Gives error because shape should be same"
   ]
  },
  {
   "cell_type": "code",
   "execution_count": 298,
   "id": "abfd5671",
   "metadata": {},
   "outputs": [
    {
     "name": "stdout",
     "output_type": "stream",
     "text": [
      "Joins the arrays on row \n",
      " [[ 1  2  3 10]\n",
      " [ 4  5  6 20]]\n",
      "[array([[ 1,  2,  3, 10]]), array([[ 4,  5,  6, 20]]), array([], shape=(0, 4), dtype=int32)]\n",
      "\n",
      "\n",
      "[array([[ 1,  2,  3, 10]]), array([[ 4,  5,  6, 20]])]\n"
     ]
    }
   ],
   "source": [
    "a=np.array([1,2,3,10])\n",
    "b=np.array([4,5,6,20])\n",
    "\n",
    "c=np.stack([a,b])\n",
    "print(\"Joins the arrays on row \\n\", c)\n",
    "\n",
    "d=np.array_split(c, 3, axis=0)\n",
    "print(d)\n",
    "\n",
    "print(\"\\n\")\n",
    "\n",
    "e=np.split(c,2, axis=0)\n",
    "print(e)"
   ]
  },
  {
   "cell_type": "code",
   "execution_count": 300,
   "id": "b164e808",
   "metadata": {},
   "outputs": [
    {
     "name": "stdout",
     "output_type": "stream",
     "text": [
      "[[1 1 2 2 2 2]\n",
      " [3 4 5 6 7 8]]\n"
     ]
    }
   ],
   "source": [
    "a = np.array([[1,1], [3,4]])\n",
    "b = np.array([[2,2,2,2], [5,6,7,8]])\n",
    "\n",
    "c=np.hstack([a,b])\n",
    "print(c)"
   ]
  },
  {
   "cell_type": "code",
   "execution_count": 301,
   "id": "a6494b60",
   "metadata": {},
   "outputs": [
    {
     "name": "stdout",
     "output_type": "stream",
     "text": [
      "[[1 1 1]\n",
      " [1 1 1]\n",
      " [2 2 2]\n",
      " [2 2 2]\n",
      " [2 2 2]\n",
      " [2 2 2]]\n"
     ]
    }
   ],
   "source": [
    "a = np.array([[1,1,1], [1,1,1]])\n",
    "b = np.array([[2,2,2], [2,2,2], [2,2,2], [2,2,2]])\n",
    "\n",
    "c=np.vstack([a,b])\n",
    "print(c)"
   ]
  },
  {
   "cell_type": "code",
   "execution_count": null,
   "id": "456d9c8e",
   "metadata": {},
   "outputs": [],
   "source": [
    "# Views instead of copies\n",
    "arr_slice = arr[0, :]\n",
    "arr_slice[0] = 999\n",
    "view_effect_on_original = arr"
   ]
  },
  {
   "cell_type": "code",
   "execution_count": 106,
   "id": "f87497da",
   "metadata": {},
   "outputs": [
    {
     "data": {
      "text/plain": [
       "124"
      ]
     },
     "execution_count": 106,
     "metadata": {},
     "output_type": "execute_result"
    }
   ],
   "source": [
    "x=np.arange(100,1257,6)\n",
    "x[4]"
   ]
  },
  {
   "cell_type": "code",
   "execution_count": 40,
   "id": "2288f5fd",
   "metadata": {},
   "outputs": [
    {
     "name": "stdout",
     "output_type": "stream",
     "text": [
      "[[[ 12  46]\n",
      "  [ 29  57]]\n",
      "\n",
      " [[ 46  19]\n",
      "  [ 78  97]]\n",
      "\n",
      " [[109  23]\n",
      "  [ 44  39]]]\n"
     ]
    }
   ],
   "source": [
    "y=np.array([12,46,29,57,46,19,78,97,109,23,44,39])\n",
    "y.shape=(3,2,2)\n",
    "print(y)"
   ]
  },
  {
   "cell_type": "code",
   "execution_count": 41,
   "id": "7e7dcbba",
   "metadata": {},
   "outputs": [
    {
     "name": "stdout",
     "output_type": "stream",
     "text": [
      "After y.shape = (2, 3):\n",
      "[[1 2 3]\n",
      " [4 5 6]]\n",
      "\n",
      "After y.reshape((3, 2)) (original y remains unchanged):\n",
      "[[1 2]\n",
      " [3 4]\n",
      " [5 6]]\n",
      "\n",
      "Original y (still has the shape given by y.shape):\n",
      "[[1 2 3]\n",
      " [4 5 6]]\n"
     ]
    }
   ],
   "source": [
    "import numpy as np\n",
    "\n",
    "# Define an array with 6 elements\n",
    "y = np.array([1, 2, 3, 4, 5, 6])\n",
    "\n",
    "# Use y.shape to change the shape of the array in place\n",
    "y.shape = (2, 3)  # Change the shape to 2 rows and 3 columns\n",
    "print(\"After y.shape = (2, 3):\")\n",
    "print(y)\n",
    "\n",
    "# Now, let's use y.reshape to create a new array with a different shape\n",
    "reshaped_y = y.reshape((3, 2))  # Create a new array with 3 rows and 2 columns\n",
    "print(\"\\nAfter y.reshape((3, 2)) (original y remains unchanged):\")\n",
    "print(reshaped_y)  # This will be the new reshaped array\n",
    "print(\"\\nOriginal y (still has the shape given by y.shape):\")\n",
    "print(y)  # The original y remains with the shape given by y.shape"
   ]
  },
  {
   "cell_type": "code",
   "execution_count": 42,
   "id": "dce9d14c",
   "metadata": {},
   "outputs": [
    {
     "data": {
      "text/plain": [
       "1998"
      ]
     },
     "execution_count": 42,
     "metadata": {},
     "output_type": "execute_result"
    }
   ],
   "source": [
    "x=np.arange(2,2000)\n",
    "count=x.size\n",
    "count"
   ]
  },
  {
   "cell_type": "code",
   "execution_count": 52,
   "id": "0ab832e8",
   "metadata": {},
   "outputs": [
    {
     "name": "stdout",
     "output_type": "stream",
     "text": [
      "[[1 1 1]\n",
      " [1 1 1]\n",
      " [2 2 2]\n",
      " [2 2 2]\n",
      " [2 2 2]\n",
      " [2 2 2]]\n"
     ]
    }
   ],
   "source": [
    "a = np.array([[1,1,1], [1,1,1]])\n",
    "b = np.array([[2,2,2], [2,2,2], [2,2,2], [2,2,2]])\n",
    "\n",
    "c=np.vstack([a,b])\n",
    "print(c)"
   ]
  },
  {
   "cell_type": "code",
   "execution_count": 70,
   "id": "162a744b",
   "metadata": {},
   "outputs": [
    {
     "name": "stdout",
     "output_type": "stream",
     "text": [
      "Joins the arrays on row \n",
      " [[ 1  2  3 10]\n",
      " [ 4  5  6 20]]\n",
      "[array([[ 1,  2,  3, 10]]), array([[ 4,  5,  6, 20]]), array([], shape=(0, 4), dtype=int32)]\n",
      "\n",
      "\n",
      "[array([[ 1,  2,  3, 10]]), array([[ 4,  5,  6, 20]])]\n"
     ]
    }
   ],
   "source": [
    "a=np.array([1,2,3,10])\n",
    "b=np.array([4,5,6,20])\n",
    "\n",
    "c=np.stack([a,b])\n",
    "print(\"Joins the arrays on row \\n\", c)\n",
    "\n",
    "d=np.array_split(c, 3, axis=0)\n",
    "print(d)\n",
    "\n",
    "print(\"\\n\")\n",
    "\n",
    "e=np.split(c,2, axis=0)\n",
    "print(e)"
   ]
  },
  {
   "cell_type": "code",
   "execution_count": 72,
   "id": "e8c62235",
   "metadata": {},
   "outputs": [
    {
     "data": {
      "text/plain": [
       "array([5, 7, 9], dtype=object)"
      ]
     },
     "execution_count": 72,
     "metadata": {},
     "output_type": "execute_result"
    }
   ],
   "source": [
    "# Define the custom add function\n",
    "def add_custom(x, y):\n",
    "    return x + y\n",
    "\n",
    "# Vectorize it with np.frompyfunc\n",
    "add_frompyfunc = np.frompyfunc(add_custom, 2, 1)\n",
    "\n",
    "# Apply it to two arrays\n",
    "result = add_frompyfunc(np.array([1, 2, 3]), np.array([4, 5, 6]))\n",
    "result"
   ]
  },
  {
   "cell_type": "code",
   "execution_count": 74,
   "id": "6b6661fa",
   "metadata": {},
   "outputs": [
    {
     "name": "stdout",
     "output_type": "stream",
     "text": [
      "int32\n"
     ]
    }
   ],
   "source": [
    "# Vectorize it with np.vectorize\n",
    "add_vectorize = np.vectorize(add_custom)\n",
    "\n",
    "# Apply it to two arrays\n",
    "result = add_vectorize(np.array([1, 2, 3]), np.array([4, 5, 6]))\n",
    "result\n",
    "print(result.dtype)"
   ]
  },
  {
   "cell_type": "code",
   "execution_count": 302,
   "id": "100332b2",
   "metadata": {},
   "outputs": [
    {
     "name": "stdout",
     "output_type": "stream",
     "text": [
      "The max column is  [  78   93 2006]\n",
      "The max row is  [  71   93 2006]\n",
      "The min column is  [ 1 11 36]\n",
      "The min column is  [24 36  1]\n"
     ]
    }
   ],
   "source": [
    "d=np.array ([ [24,56,71],                        \n",
    "              [78,93,36],\n",
    "              [1,11,2006] ])\n",
    "maximum_cols=np.max(d, axis=0)\n",
    "print(\"The max column is \", maximum_cols)\n",
    "maximum_rows=np.max(d, axis=1)\n",
    "print(\"The max row is \", maximum_rows)\n",
    "minimum_cols=np.min(d, axis=0)\n",
    "print(\"The min column is \", minimum_cols)\n",
    "minimum_rows=np.min(d, axis=1)\n",
    "print(\"The min column is \", minimum_rows)"
   ]
  }
 ],
 "metadata": {
  "kernelspec": {
   "display_name": "Python 3 (ipykernel)",
   "language": "python",
   "name": "python3"
  },
  "language_info": {
   "codemirror_mode": {
    "name": "ipython",
    "version": 3
   },
   "file_extension": ".py",
   "mimetype": "text/x-python",
   "name": "python",
   "nbconvert_exporter": "python",
   "pygments_lexer": "ipython3",
   "version": "3.9.7"
  }
 },
 "nbformat": 4,
 "nbformat_minor": 5
}
